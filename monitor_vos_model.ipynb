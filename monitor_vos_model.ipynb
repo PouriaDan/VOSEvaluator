{
 "cells": [
  {
   "cell_type": "code",
   "execution_count": null,
   "metadata": {},
   "outputs": [],
   "source": [
    "import os\n",
    "\n",
    "\n",
    "from metric_evaluation.evaluation import VOSEvaluation\n",
    "from evaluation_tools.model_analysis import ModelAnalysis\n",
    "\n",
    "\n",
    "frame_path = 'Path/To/JPEGImages' #Replace with frames dir\n",
    "gt_path = 'Path/To/Annotations' #Replace with annotations dir\n",
    "results_path = 'Path/To/Results' #Replace with results dir\n",
    "saved_evals = 'Path/To/SavedEvaluation' #Replace with saved_evaluation dir\n",
    "\n",
    "vos_eval = VOSEvaluation(frames_root=frame_path, gt_root=gt_path, res_root=results_path, sequences=['soapbox', 'pigs'])\n",
    "vos_eval.evaluate(eval_path=saved_evals)\n",
    "\n",
    "%matplotlib widget\n",
    "ModelAnalysis(vos_eval)"
   ]
  }
 ],
 "metadata": {
  "interpreter": {
   "hash": "5129690e840233fb199565eeededb87bed041cf57fdf94132f2be5acae007c5f"
  },
  "kernelspec": {
   "display_name": "Python 3.8.10 64-bit ('deeplearning': conda)",
   "name": "python3"
  },
  "language_info": {
   "codemirror_mode": {
    "name": "ipython",
    "version": 3
   },
   "file_extension": ".py",
   "mimetype": "text/x-python",
   "name": "python",
   "nbconvert_exporter": "python",
   "pygments_lexer": "ipython3",
   "version": "3.8.10"
  },
  "orig_nbformat": 4
 },
 "nbformat": 4,
 "nbformat_minor": 2
}
